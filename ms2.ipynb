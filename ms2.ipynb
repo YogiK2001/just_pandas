{
 "cells": [
  {
   "cell_type": "code",
   "execution_count": 2,
   "id": "984f7c5c",
   "metadata": {},
   "outputs": [],
   "source": [
    "import pandas as pd\n",
    "sales_data = [\n",
    "    [1, 'P01', 'North', 100],\n",
    "    [2, 'P02', 'North', 150],\n",
    "    [3, 'P01', 'South', 200],\n",
    "    [4, 'P03', 'East', 80],\n",
    "    [5, 'P02', 'South', 120],\n",
    "    [6, 'P01', 'East', 90],\n",
    "    [7, 'P03', 'North', 110]\n",
    "]\n",
    "\n",
    "product_data = [\n",
    "    ['P01', 'Laptop'],\n",
    "    ['P02', 'Smartphone'],\n",
    "    ['P03', 'Tablet']\n",
    "]"
   ]
  },
  {
   "cell_type": "code",
   "execution_count": 3,
   "id": "34846f7b",
   "metadata": {},
   "outputs": [
    {
     "name": "stdout",
     "output_type": "stream",
     "text": [
      "   TransactionID ProductID Region  UnitsSold\n",
      "0              1       P01  North        100\n",
      "1              2       P02  North        150\n",
      "2              3       P01  South        200\n",
      "3              4       P03   East         80\n",
      "4              5       P02  South        120\n",
      "5              6       P01   East         90\n",
      "6              7       P03  North        110\n",
      "  ProductID ProductName\n",
      "0       P01      Laptop\n",
      "1       P02  Smartphone\n",
      "2       P03      Tablet\n"
     ]
    }
   ],
   "source": [
    "sales_df = pd.DataFrame(sales_data, columns=['TransactionID', 'ProductID', 'Region', 'UnitsSold'])\n",
    "product_df = pd.DataFrame(product_data, columns=['ProductID', 'ProductName'])\n",
    "print(sales_df)\n",
    "print(product_df)"
   ]
  },
  {
   "cell_type": "code",
   "execution_count": 4,
   "id": "8439d3b3",
   "metadata": {},
   "outputs": [
    {
     "name": "stdout",
     "output_type": "stream",
     "text": [
      "   TransactionID ProductID Region  UnitsSold ProductName\n",
      "0              1       P01  North        100      Laptop\n",
      "1              2       P02  North        150  Smartphone\n",
      "2              3       P01  South        200      Laptop\n",
      "3              4       P03   East         80      Tablet\n",
      "4              5       P02  South        120  Smartphone\n",
      "5              6       P01   East         90      Laptop\n",
      "6              7       P03  North        110      Tablet\n"
     ]
    }
   ],
   "source": [
    "merged_df = pd.merge(sales_df, product_df, on='ProductID', how='left')\n",
    "print(merged_df)"
   ]
  },
  {
   "cell_type": "code",
   "execution_count": 5,
   "id": "fe1285c7",
   "metadata": {},
   "outputs": [
    {
     "name": "stdout",
     "output_type": "stream",
     "text": [
      "  ProductName  TotalUnitsSold\n",
      "0      Laptop             390\n",
      "1  Smartphone             270\n",
      "2      Tablet             190\n"
     ]
    }
   ],
   "source": [
    "total_units = merged_df.groupby(['ProductName'])['UnitsSold'].sum().reset_index(name='TotalUnitsSold')\n",
    "print(total_units)"
   ]
  },
  {
   "cell_type": "code",
   "execution_count": 6,
   "id": "3c67eccd",
   "metadata": {},
   "outputs": [
    {
     "data": {
      "text/html": [
       "<div>\n",
       "<style scoped>\n",
       "    .dataframe tbody tr th:only-of-type {\n",
       "        vertical-align: middle;\n",
       "    }\n",
       "\n",
       "    .dataframe tbody tr th {\n",
       "        vertical-align: top;\n",
       "    }\n",
       "\n",
       "    .dataframe thead th {\n",
       "        text-align: right;\n",
       "    }\n",
       "</style>\n",
       "<table border=\"1\" class=\"dataframe\">\n",
       "  <thead>\n",
       "    <tr style=\"text-align: right;\">\n",
       "      <th></th>\n",
       "      <th>TransactionID</th>\n",
       "      <th>ProductID</th>\n",
       "      <th>Region</th>\n",
       "      <th>UnitsSold</th>\n",
       "      <th>ProductName</th>\n",
       "    </tr>\n",
       "  </thead>\n",
       "  <tbody>\n",
       "    <tr>\n",
       "      <th>1</th>\n",
       "      <td>2</td>\n",
       "      <td>P02</td>\n",
       "      <td>North</td>\n",
       "      <td>150</td>\n",
       "      <td>Smartphone</td>\n",
       "    </tr>\n",
       "    <tr>\n",
       "      <th>2</th>\n",
       "      <td>3</td>\n",
       "      <td>P01</td>\n",
       "      <td>South</td>\n",
       "      <td>200</td>\n",
       "      <td>Laptop</td>\n",
       "    </tr>\n",
       "    <tr>\n",
       "      <th>4</th>\n",
       "      <td>5</td>\n",
       "      <td>P02</td>\n",
       "      <td>South</td>\n",
       "      <td>120</td>\n",
       "      <td>Smartphone</td>\n",
       "    </tr>\n",
       "    <tr>\n",
       "      <th>6</th>\n",
       "      <td>7</td>\n",
       "      <td>P03</td>\n",
       "      <td>North</td>\n",
       "      <td>110</td>\n",
       "      <td>Tablet</td>\n",
       "    </tr>\n",
       "  </tbody>\n",
       "</table>\n",
       "</div>"
      ],
      "text/plain": [
       "   TransactionID ProductID Region  UnitsSold ProductName\n",
       "1              2       P02  North        150  Smartphone\n",
       "2              3       P01  South        200      Laptop\n",
       "4              5       P02  South        120  Smartphone\n",
       "6              7       P03  North        110      Tablet"
      ]
     },
     "execution_count": 6,
     "metadata": {},
     "output_type": "execute_result"
    }
   ],
   "source": [
    "# Filter high selling products (threshold)\n",
    "# Implement a method:\n",
    "# def filter_high_selling_products(self, merged_df, threshold):\n",
    "# Returns only products where 'UnitsSold' > threshold.\n",
    "\n",
    "merged_df = merged_df[merged_df['UnitsSold'] > 100]\n",
    "merged_df"
   ]
  },
  {
   "cell_type": "code",
   "execution_count": 23,
   "id": "b58c97bb",
   "metadata": {},
   "outputs": [
    {
     "data": {
      "text/html": [
       "<div>\n",
       "<style scoped>\n",
       "    .dataframe tbody tr th:only-of-type {\n",
       "        vertical-align: middle;\n",
       "    }\n",
       "\n",
       "    .dataframe tbody tr th {\n",
       "        vertical-align: top;\n",
       "    }\n",
       "\n",
       "    .dataframe thead th {\n",
       "        text-align: right;\n",
       "    }\n",
       "</style>\n",
       "<table border=\"1\" class=\"dataframe\">\n",
       "  <thead>\n",
       "    <tr style=\"text-align: right;\">\n",
       "      <th></th>\n",
       "      <th>Region</th>\n",
       "      <th>ProductName</th>\n",
       "      <th>Total Units Sold</th>\n",
       "    </tr>\n",
       "  </thead>\n",
       "  <tbody>\n",
       "    <tr>\n",
       "      <th>0</th>\n",
       "      <td>North</td>\n",
       "      <td>Smartphone</td>\n",
       "      <td>150</td>\n",
       "    </tr>\n",
       "    <tr>\n",
       "      <th>1</th>\n",
       "      <td>South</td>\n",
       "      <td>Laptop</td>\n",
       "      <td>200</td>\n",
       "    </tr>\n",
       "  </tbody>\n",
       "</table>\n",
       "</div>"
      ],
      "text/plain": [
       "  Region ProductName  Total Units Sold\n",
       "0  North  Smartphone               150\n",
       "1  South      Laptop               200"
      ]
     },
     "execution_count": 23,
     "metadata": {},
     "output_type": "execute_result"
    }
   ],
   "source": [
    "# 6. Most Popular Product by Region\n",
    "# Implement a method:\n",
    "# def most_popular_product_by_region(self, merged_df):\n",
    "# Returns a DataFrame of the most sold product (by UnitsSold) per Region with columns:\n",
    "# 'Region'\n",
    "# 'ProductName'\n",
    "# 'Total Units Sold'\n",
    "\n",
    "merged_df = merged_df.sort_values(by='UnitsSold', ascending=False)\n",
    "sorted_df = merged_df.groupby(['Region', 'ProductName'])['UnitsSold'].sum().reset_index(name='Total Units Sold')\n",
    "maxx_idx = sorted_df.groupby(['Region'])['Total Units Sold'].idxmax()\n",
    "result = sorted_df.loc[maxx_idx].reset_index(drop=True)\n",
    "result\n"
   ]
  }
 ],
 "metadata": {
  "kernelspec": {
   "display_name": ".venv",
   "language": "python",
   "name": "python3"
  },
  "language_info": {
   "codemirror_mode": {
    "name": "ipython",
    "version": 3
   },
   "file_extension": ".py",
   "mimetype": "text/x-python",
   "name": "python",
   "nbconvert_exporter": "python",
   "pygments_lexer": "ipython3",
   "version": "3.10.8"
  }
 },
 "nbformat": 4,
 "nbformat_minor": 5
}
